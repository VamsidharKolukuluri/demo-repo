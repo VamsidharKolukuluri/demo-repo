{
 "cells": [
  {
   "cell_type": "markdown",
   "metadata": {},
   "source": [
    "## Torch Fundamentals"
   ]
  },
  {
   "cell_type": "code",
   "execution_count": 3,
   "metadata": {},
   "outputs": [],
   "source": [
    "import numpy as np\n",
    "import pandas as pd\n",
    "import matplotlib.pyplot as plt\n",
    "import seaborn as sns\n",
    "import warnings\n",
    "import torch\n",
    "warnings.filterwarnings(\"ignore\")"
   ]
  },
  {
   "cell_type": "markdown",
   "metadata": {},
   "source": [
    "### Reshaping, Stacking, Squeezing and Unsqueezing tensors"
   ]
  },
  {
   "cell_type": "code",
   "execution_count": 5,
   "metadata": {},
   "outputs": [
    {
     "data": {
      "text/plain": [
       "tensor([ 1,  2,  3,  4,  5,  6,  7,  8,  9, 10, 11, 12])"
      ]
     },
     "execution_count": 5,
     "metadata": {},
     "output_type": "execute_result"
    }
   ],
   "source": [
    "# Create a Tensor of 12 elements\n",
    "x = torch.arange(1,13)\n",
    "x"
   ]
  },
  {
   "cell_type": "code",
   "execution_count": 8,
   "metadata": {},
   "outputs": [
    {
     "data": {
      "text/plain": [
       "tensor([[[ 1,  2,  3,  4,  5,  6,  7,  8,  9, 10, 11, 12]]])"
      ]
     },
     "execution_count": 8,
     "metadata": {},
     "output_type": "execute_result"
    }
   ],
   "source": [
    "# Reshaping the Created Tensor\n",
    "\n",
    "x_reshaped = x.reshape([1,1,12])\n",
    "x_reshaped"
   ]
  },
  {
   "cell_type": "code",
   "execution_count": 20,
   "metadata": {},
   "outputs": [
    {
     "name": "stdout",
     "output_type": "stream",
     "text": [
      "tensor([[ 5,  2,  3,  4,  5,  6,  7,  8,  9, 10, 11, 12],\n",
      "        [ 5,  2,  3,  4,  5,  6,  7,  8,  9, 10, 11, 12],\n",
      "        [ 5,  2,  3,  4,  5,  6,  7,  8,  9, 10, 11, 12],\n",
      "        [ 5,  2,  3,  4,  5,  6,  7,  8,  9, 10, 11, 12]])\n",
      "tensor([ 5,  2,  3,  4,  5,  6,  7,  8,  9, 10, 11, 12,  5,  2,  3,  4,  5,  6,\n",
      "         7,  8,  9, 10, 11, 12])\n",
      "tensor([[ 5,  2,  3,  4,  5,  6,  7,  8,  9, 10, 11, 12],\n",
      "        [ 5,  2,  3,  4,  5,  6,  7,  8,  9, 10, 11, 12]])\n",
      "tensor([ 5,  2,  3,  4,  5,  6,  7,  8,  9, 10, 11, 12]) tensor([[ 5,  2,  3,  4,  5,  6,  7,  8,  9, 10, 11, 12]])\n"
     ]
    }
   ],
   "source": [
    "# Stacking Tensors\n",
    "\n",
    "# torch.stack\n",
    "x_stacked = torch.stack([x, x, x, x], dim = 0)\n",
    "print(x_stacked)\n",
    "\n",
    "# torch.hstack\n",
    "x_hstack = torch.hstack([x, x])\n",
    "print(x_hstack)\n",
    "\n",
    "# torch.vstack\n",
    "x_vstack = torch.vstack([x,x])\n",
    "print(x_vstack)\n",
    "\n",
    "# tensor.view\n",
    "z = x.view(1,12)\n",
    "z[0][0] = 5\n",
    "print(x, z)"
   ]
  },
  {
   "cell_type": "code",
   "execution_count": 33,
   "metadata": {},
   "outputs": [
    {
     "name": "stdout",
     "output_type": "stream",
     "text": [
      "torch.Size([1, 1, 12])\n",
      "tensor([ 5,  2,  3,  4,  5,  6,  7,  8,  9, 10, 11, 12])\n",
      "torch.Size([12])\n",
      "tensor([[ 5,  2,  3,  4,  5,  6,  7,  8,  9, 10, 11, 12]])\n"
     ]
    }
   ],
   "source": [
    "## Squeezing Tensors - removes all single dimensions from tensor\n",
    "\n",
    "print(x_reshaped.shape)\n",
    "\n",
    "print(x_reshaped.squeeze())\n",
    "print(x_reshaped.squeeze().shape)\n",
    "\n",
    "\n",
    "## Unsqueezing Tensors - adds a single dimension to a target tensor\n",
    "print(x.unsqueeze(dim = 0))"
   ]
  },
  {
   "cell_type": "code",
   "execution_count": 41,
   "metadata": {},
   "outputs": [
    {
     "name": "stdout",
     "output_type": "stream",
     "text": [
      "tensor([[[0.0317, 0.1495, 0.9969],\n",
      "         [0.0352, 0.5980, 0.8147],\n",
      "         [0.2197, 0.6039, 0.4595],\n",
      "         [0.4587, 0.0376, 0.5814],\n",
      "         [0.2109, 0.7461, 0.0497]],\n",
      "\n",
      "        [[0.2633, 0.9105, 0.2261],\n",
      "         [0.7602, 0.3302, 0.4852],\n",
      "         [0.4617, 0.6734, 0.6381],\n",
      "         [0.8757, 0.8071, 0.9728],\n",
      "         [0.4050, 0.0209, 0.9152]]])\n"
     ]
    },
    {
     "ename": "RuntimeError",
     "evalue": "permute(sparse_coo): number of dimensions in the tensor input does not match the length of the desired ordering of dimensions i.e. input.dim() = 1 is not equal to len(dims) = 2",
     "output_type": "error",
     "traceback": [
      "\u001b[1;31m---------------------------------------------------------------------------\u001b[0m",
      "\u001b[1;31mRuntimeError\u001b[0m                              Traceback (most recent call last)",
      "\u001b[1;32mc:\\WorkSpace\\Jupyter\\demo-repo\\demo-repo\\pytorch_fundamentals.ipynb Cell 8\u001b[0m line \u001b[0;36m6\n\u001b[0;32m      <a href='vscode-notebook-cell:/c%3A/WorkSpace/Jupyter/demo-repo/demo-repo/pytorch_fundamentals.ipynb#X14sZmlsZQ%3D%3D?line=2'>3</a>\u001b[0m x_new \u001b[39m=\u001b[39m torch\u001b[39m.\u001b[39mrand(size \u001b[39m=\u001b[39m (\u001b[39m2\u001b[39m,\u001b[39m5\u001b[39m,\u001b[39m3\u001b[39m))\n\u001b[0;32m      <a href='vscode-notebook-cell:/c%3A/WorkSpace/Jupyter/demo-repo/demo-repo/pytorch_fundamentals.ipynb#X14sZmlsZQ%3D%3D?line=3'>4</a>\u001b[0m \u001b[39mprint\u001b[39m(x_new)\n\u001b[1;32m----> <a href='vscode-notebook-cell:/c%3A/WorkSpace/Jupyter/demo-repo/demo-repo/pytorch_fundamentals.ipynb#X14sZmlsZQ%3D%3D?line=5'>6</a>\u001b[0m x_permuted \u001b[39m=\u001b[39m x\u001b[39m.\u001b[39mpermute(\u001b[39m2\u001b[39m,\u001b[39m0\u001b[39m)\n\u001b[0;32m      <a href='vscode-notebook-cell:/c%3A/WorkSpace/Jupyter/demo-repo/demo-repo/pytorch_fundamentals.ipynb#X14sZmlsZQ%3D%3D?line=7'>8</a>\u001b[0m \u001b[39mprint\u001b[39m(x_permuted\u001b[39m.\u001b[39mshape)\n",
      "\u001b[1;31mRuntimeError\u001b[0m: permute(sparse_coo): number of dimensions in the tensor input does not match the length of the desired ordering of dimensions i.e. input.dim() = 1 is not equal to len(dims) = 2"
     ]
    }
   ],
   "source": [
    "## permute - rearranges the dimensions accordingly\n",
    "\n",
    "x_new = torch.rand(size = (2,5,3))\n",
    "print(x_new)\n"
   ]
  },
  {
   "cell_type": "code",
   "execution_count": null,
   "metadata": {},
   "outputs": [],
   "source": []
  }
 ],
 "metadata": {
  "kernelspec": {
   "display_name": "base",
   "language": "python",
   "name": "python3"
  },
  "language_info": {
   "codemirror_mode": {
    "name": "ipython",
    "version": 3
   },
   "file_extension": ".py",
   "mimetype": "text/x-python",
   "name": "python",
   "nbconvert_exporter": "python",
   "pygments_lexer": "ipython3",
   "version": "3.11.4"
  },
  "orig_nbformat": 4
 },
 "nbformat": 4,
 "nbformat_minor": 2
}
