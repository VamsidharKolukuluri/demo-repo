{
 "cells": [
  {
   "cell_type": "markdown",
   "metadata": {},
   "source": [
    "## Torch Fundamentals"
   ]
  },
  {
   "cell_type": "code",
   "execution_count": 3,
   "metadata": {},
   "outputs": [],
   "source": [
    "import numpy as np\n",
    "import pandas as pd\n",
    "import matplotlib.pyplot as plt\n",
    "import seaborn as sns\n",
    "import warnings\n",
    "import torch\n",
    "warnings.filterwarnings(\"ignore\")"
   ]
  },
  {
   "cell_type": "markdown",
   "metadata": {},
   "source": [
    "### Reshaping, Stacking, Squeezing and Unsqueezing tensors"
   ]
  },
  {
   "cell_type": "code",
   "execution_count": 5,
   "metadata": {},
   "outputs": [
    {
     "data": {
      "text/plain": [
       "tensor([ 1,  2,  3,  4,  5,  6,  7,  8,  9, 10, 11, 12])"
      ]
     },
     "execution_count": 5,
     "metadata": {},
     "output_type": "execute_result"
    }
   ],
   "source": [
    "# Create a Tensor of 12 elements\n",
    "x = torch.arange(1,13)\n",
    "x"
   ]
  },
  {
   "cell_type": "code",
   "execution_count": 8,
   "metadata": {},
   "outputs": [
    {
     "data": {
      "text/plain": [
       "tensor([[[ 1,  2,  3,  4,  5,  6,  7,  8,  9, 10, 11, 12]]])"
      ]
     },
     "execution_count": 8,
     "metadata": {},
     "output_type": "execute_result"
    }
   ],
   "source": [
    "# Reshaping the Created Tensor\n",
    "\n",
    "x_reshaped = x.reshape([1,1,12])\n",
    "x_reshaped"
   ]
  },
  {
   "cell_type": "code",
   "execution_count": 20,
   "metadata": {},
   "outputs": [
    {
     "name": "stdout",
     "output_type": "stream",
     "text": [
      "tensor([[ 5,  2,  3,  4,  5,  6,  7,  8,  9, 10, 11, 12],\n",
      "        [ 5,  2,  3,  4,  5,  6,  7,  8,  9, 10, 11, 12],\n",
      "        [ 5,  2,  3,  4,  5,  6,  7,  8,  9, 10, 11, 12],\n",
      "        [ 5,  2,  3,  4,  5,  6,  7,  8,  9, 10, 11, 12]])\n",
      "tensor([ 5,  2,  3,  4,  5,  6,  7,  8,  9, 10, 11, 12,  5,  2,  3,  4,  5,  6,\n",
      "         7,  8,  9, 10, 11, 12])\n",
      "tensor([[ 5,  2,  3,  4,  5,  6,  7,  8,  9, 10, 11, 12],\n",
      "        [ 5,  2,  3,  4,  5,  6,  7,  8,  9, 10, 11, 12]])\n",
      "tensor([ 5,  2,  3,  4,  5,  6,  7,  8,  9, 10, 11, 12]) tensor([[ 5,  2,  3,  4,  5,  6,  7,  8,  9, 10, 11, 12]])\n"
     ]
    }
   ],
   "source": [
    "# Stacking Tensors\n",
    "\n",
    "# torch.stack\n",
    "x_stacked = torch.stack([x, x, x, x], dim = 0)\n",
    "print(x_stacked)\n",
    "\n",
    "# torch.hstack\n",
    "x_hstack = torch.hstack([x, x])\n",
    "print(x_hstack)\n",
    "\n",
    "# torch.vstack\n",
    "x_vstack = torch.vstack([x,x])\n",
    "print(x_vstack)\n",
    "\n",
    "# tensor.view\n",
    "z = x.view(1,12)\n",
    "z[0][0] = 5\n",
    "print(x, z)"
   ]
  },
  {
   "cell_type": "code",
   "execution_count": 33,
   "metadata": {},
   "outputs": [
    {
     "name": "stdout",
     "output_type": "stream",
     "text": [
      "torch.Size([1, 1, 12])\n",
      "tensor([ 5,  2,  3,  4,  5,  6,  7,  8,  9, 10, 11, 12])\n",
      "torch.Size([12])\n",
      "tensor([[ 5,  2,  3,  4,  5,  6,  7,  8,  9, 10, 11, 12]])\n"
     ]
    }
   ],
   "source": [
    "## Squeezing Tensors - removes all single dimensions from tensor\n",
    "\n",
    "print(x_reshaped.shape)\n",
    "\n",
    "print(x_reshaped.squeeze())\n",
    "print(x_reshaped.squeeze().shape)\n",
    "\n",
    "\n",
    "## Unsqueezing Tensors - adds a single dimension to a target tensor\n",
    "print(x.unsqueeze(dim = 0))"
   ]
  },
  {
   "cell_type": "code",
   "execution_count": 42,
   "metadata": {},
   "outputs": [
    {
     "name": "stdout",
     "output_type": "stream",
     "text": [
      "tensor([[[0.0452, 0.8059, 0.7000],\n",
      "         [0.8232, 0.3928, 0.4507],\n",
      "         [0.7083, 0.1190, 0.2863],\n",
      "         [0.4116, 0.4829, 0.9086],\n",
      "         [0.1086, 0.7079, 0.7240]],\n",
      "\n",
      "        [[0.2044, 0.5852, 0.5102],\n",
      "         [0.6825, 0.9966, 0.2524],\n",
      "         [0.1767, 0.0143, 0.8074],\n",
      "         [0.0363, 0.6428, 0.3380],\n",
      "         [0.4343, 0.6762, 0.8972]]])\n"
     ]
    }
   ],
   "source": [
    "## permute - rearranges the dimensions accordingly\n",
    "\n",
    "x_new = torch.rand(size = (2,5,3))\n",
    "print(x_new)"
   ]
  },
  {
   "cell_type": "markdown",
   "metadata": {},
   "source": [
    "## Indexing\n",
    "\n",
    "Similar to indexing in NumPy"
   ]
  },
  {
   "cell_type": "code",
   "execution_count": 3,
   "metadata": {},
   "outputs": [
    {
     "data": {
      "text/plain": [
       "(tensor([[[1, 2, 3],\n",
       "          [4, 5, 6],\n",
       "          [7, 8, 9]]]),\n",
       " torch.Size([1, 3, 3]))"
      ]
     },
     "execution_count": 3,
     "metadata": {},
     "output_type": "execute_result"
    }
   ],
   "source": [
    "# Create tensor using arange\n",
    "import torch\n",
    "x = torch.arange(1,10).reshape(1,3,3)\n",
    "x, x.shape"
   ]
  },
  {
   "cell_type": "code",
   "execution_count": 4,
   "metadata": {},
   "outputs": [
    {
     "data": {
      "text/plain": [
       "tensor([[1],\n",
       "        [2],\n",
       "        [3],\n",
       "        [4],\n",
       "        [5],\n",
       "        [6],\n",
       "        [7],\n",
       "        [8],\n",
       "        [9]])"
      ]
     },
     "execution_count": 4,
     "metadata": {},
     "output_type": "execute_result"
    }
   ],
   "source": [
    "x[0].reshape(9,1)"
   ]
  },
  {
   "cell_type": "code",
   "execution_count": 7,
   "metadata": {},
   "outputs": [
    {
     "data": {
      "text/plain": [
       "tensor(9)"
      ]
     },
     "execution_count": 7,
     "metadata": {},
     "output_type": "execute_result"
    }
   ],
   "source": [
    "x[0,2,2]"
   ]
  },
  {
   "cell_type": "markdown",
   "metadata": {},
   "source": [
    "## PyTorch default tensor datatype is float32\n",
    "Convert PyTorch tensor to NumPy using `torch.tensor.numpy()`  \n",
    "Convert NumPy ndarray to PyTorch tensor using `torch.from_numpy(ndarray)`"
   ]
  },
  {
   "cell_type": "code",
   "execution_count": 32,
   "metadata": {},
   "outputs": [
    {
     "name": "stdout",
     "output_type": "stream",
     "text": [
      "tensor([ 1.,  2.,  3.,  4.,  5.,  6.,  7.,  8.,  9., 10.], dtype=torch.float64)\n",
      "tensor([101., 102., 103., 104., 105., 106., 107., 108., 109., 110.],\n",
      "       dtype=torch.float64)\n"
     ]
    }
   ],
   "source": [
    "import torch\n",
    "import numpy as np\n",
    "\n",
    "# Create a NumPy array\n",
    "n = np.arange(1.0,11.0)\n",
    "\n",
    "# Convert NumPy to Torch Tensor\n",
    "n_t = torch.from_numpy(n)\n",
    "\n",
    "# Create a default torch tensor\n",
    "t = torch.arange(1.0,11.0)\n",
    "\n",
    "# Checking the datatypes\n",
    "n_t.dtype, n.dtype, t.dtype\n",
    "\n",
    "# View\n",
    "tensor = n_t.view(1,10)\n",
    "print(n_t)\n",
    "tensor[0] += 100\n",
    "print(n_t)"
   ]
  },
  {
   "cell_type": "code",
   "execution_count": 8,
   "metadata": {},
   "outputs": [],
   "source": [
    "import numpy as np\n",
    "import pandas as pd\n",
    "import matplotlib.pyplot as plt\n",
    "import seaborn as sns\n",
    "import torch"
   ]
  },
  {
   "cell_type": "code",
   "execution_count": 9,
   "metadata": {},
   "outputs": [
    {
     "data": {
      "text/plain": [
       "'cuda'"
      ]
     },
     "execution_count": 9,
     "metadata": {},
     "output_type": "execute_result"
    }
   ],
   "source": [
    "device = \"cuda\" if torch.cuda.is_available() else \"cpu\"\n",
    "device"
   ]
  },
  {
   "cell_type": "code",
   "execution_count": 11,
   "metadata": {},
   "outputs": [
    {
     "data": {
      "text/plain": [
       "tensor([1, 2, 3])"
      ]
     },
     "execution_count": 11,
     "metadata": {},
     "output_type": "execute_result"
    }
   ],
   "source": [
    "tensor_cpu = torch.tensor([1,2,3])\n",
    "tensor_cpu"
   ]
  },
  {
   "cell_type": "code",
   "execution_count": 12,
   "metadata": {},
   "outputs": [
    {
     "data": {
      "text/plain": [
       "tensor([1, 2, 3], device='cuda:0')"
      ]
     },
     "execution_count": 12,
     "metadata": {},
     "output_type": "execute_result"
    }
   ],
   "source": [
    "tensor_gpu = tensor_cpu.to(device)\n",
    "tensor_gpu"
   ]
  },
  {
   "cell_type": "markdown",
   "metadata": {},
   "source": [
    "### Working with GPU is not possible in case of NumPy"
   ]
  },
  {
   "cell_type": "code",
   "execution_count": 14,
   "metadata": {},
   "outputs": [
    {
     "ename": "TypeError",
     "evalue": "can't convert cuda:0 device type tensor to numpy. Use Tensor.cpu() to copy the tensor to host memory first.",
     "output_type": "error",
     "traceback": [
      "\u001b[1;31m---------------------------------------------------------------------------\u001b[0m",
      "\u001b[1;31mTypeError\u001b[0m                                 Traceback (most recent call last)",
      "\u001b[1;32mc:\\WorkSpace\\Jupyter\\demo-repo\\demo-repo\\pytorch_fundamentals.ipynb Cell 20\u001b[0m line \u001b[0;36m1\n\u001b[1;32m----> <a href='vscode-notebook-cell:/c%3A/WorkSpace/Jupyter/demo-repo/demo-repo/pytorch_fundamentals.ipynb#X25sZmlsZQ%3D%3D?line=0'>1</a>\u001b[0m tensor_gpu_numpy \u001b[39m=\u001b[39m tensor_gpu\u001b[39m.\u001b[39mnumpy()\n",
      "\u001b[1;31mTypeError\u001b[0m: can't convert cuda:0 device type tensor to numpy. Use Tensor.cpu() to copy the tensor to host memory first."
     ]
    }
   ],
   "source": [
    "tensor_gpu_numpy = tensor_gpu.numpy()"
   ]
  },
  {
   "cell_type": "code",
   "execution_count": 21,
   "metadata": {},
   "outputs": [
    {
     "data": {
      "text/plain": [
       "array([1, 2, 3], dtype=int64)"
      ]
     },
     "execution_count": 21,
     "metadata": {},
     "output_type": "execute_result"
    }
   ],
   "source": [
    "tensor_cpu_numpy = tensor_gpu.cpu().numpy()\n",
    "tensor_cpu_numpy"
   ]
  },
  {
   "cell_type": "code",
   "execution_count": null,
   "metadata": {},
   "outputs": [],
   "source": []
  }
 ],
 "metadata": {
  "kernelspec": {
   "display_name": "base",
   "language": "python",
   "name": "python3"
  },
  "language_info": {
   "codemirror_mode": {
    "name": "ipython",
    "version": 3
   },
   "file_extension": ".py",
   "mimetype": "text/x-python",
   "name": "python",
   "nbconvert_exporter": "python",
   "pygments_lexer": "ipython3",
   "version": "3.11.4"
  },
  "orig_nbformat": 4
 },
 "nbformat": 4,
 "nbformat_minor": 2
}
