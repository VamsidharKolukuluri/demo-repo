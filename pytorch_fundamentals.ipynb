{
 "cells": [
  {
   "cell_type": "markdown",
   "metadata": {},
   "source": [
    "## Torch Fundamentals"
   ]
  },
  {
   "cell_type": "code",
   "execution_count": 3,
   "metadata": {},
   "outputs": [],
   "source": [
    "import numpy as np\n",
    "import pandas as pd\n",
    "import matplotlib.pyplot as plt\n",
    "import seaborn as sns\n",
    "import warnings\n",
    "import torch\n",
    "warnings.filterwarnings(\"ignore\")"
   ]
  },
  {
   "cell_type": "markdown",
   "metadata": {},
   "source": [
    "### Reshaping, Stacking, Squeezing and Unsqueezing tensors"
   ]
  },
  {
   "cell_type": "code",
   "execution_count": 5,
   "metadata": {},
   "outputs": [
    {
     "data": {
      "text/plain": [
       "tensor([ 1,  2,  3,  4,  5,  6,  7,  8,  9, 10, 11, 12])"
      ]
     },
     "execution_count": 5,
     "metadata": {},
     "output_type": "execute_result"
    }
   ],
   "source": [
    "# Create a Tensor of 12 elements\n",
    "x = torch.arange(1,13)\n",
    "x"
   ]
  },
  {
   "cell_type": "code",
   "execution_count": 8,
   "metadata": {},
   "outputs": [
    {
     "data": {
      "text/plain": [
       "tensor([[[ 1,  2,  3,  4,  5,  6,  7,  8,  9, 10, 11, 12]]])"
      ]
     },
     "execution_count": 8,
     "metadata": {},
     "output_type": "execute_result"
    }
   ],
   "source": [
    "# Reshaping the Created Tensor\n",
    "\n",
    "x_reshaped = x.reshape([1,1,12])\n",
    "x_reshaped"
   ]
  },
  {
   "cell_type": "code",
   "execution_count": 20,
   "metadata": {},
   "outputs": [
    {
     "name": "stdout",
     "output_type": "stream",
     "text": [
      "tensor([[ 5,  2,  3,  4,  5,  6,  7,  8,  9, 10, 11, 12],\n",
      "        [ 5,  2,  3,  4,  5,  6,  7,  8,  9, 10, 11, 12],\n",
      "        [ 5,  2,  3,  4,  5,  6,  7,  8,  9, 10, 11, 12],\n",
      "        [ 5,  2,  3,  4,  5,  6,  7,  8,  9, 10, 11, 12]])\n",
      "tensor([ 5,  2,  3,  4,  5,  6,  7,  8,  9, 10, 11, 12,  5,  2,  3,  4,  5,  6,\n",
      "         7,  8,  9, 10, 11, 12])\n",
      "tensor([[ 5,  2,  3,  4,  5,  6,  7,  8,  9, 10, 11, 12],\n",
      "        [ 5,  2,  3,  4,  5,  6,  7,  8,  9, 10, 11, 12]])\n",
      "tensor([ 5,  2,  3,  4,  5,  6,  7,  8,  9, 10, 11, 12]) tensor([[ 5,  2,  3,  4,  5,  6,  7,  8,  9, 10, 11, 12]])\n"
     ]
    }
   ],
   "source": [
    "# Stacking Tensors\n",
    "\n",
    "# torch.stack\n",
    "x_stacked = torch.stack([x, x, x, x], dim = 0)\n",
    "print(x_stacked)\n",
    "\n",
    "# torch.hstack\n",
    "x_hstack = torch.hstack([x, x])\n",
    "print(x_hstack)\n",
    "\n",
    "# torch.vstack\n",
    "x_vstack = torch.vstack([x,x])\n",
    "print(x_vstack)\n",
    "\n",
    "# tensor.view\n",
    "z = x.view(1,12)\n",
    "z[0][0] = 5\n",
    "print(x, z)"
   ]
  },
  {
   "cell_type": "code",
   "execution_count": 33,
   "metadata": {},
   "outputs": [
    {
     "name": "stdout",
     "output_type": "stream",
     "text": [
      "torch.Size([1, 1, 12])\n",
      "tensor([ 5,  2,  3,  4,  5,  6,  7,  8,  9, 10, 11, 12])\n",
      "torch.Size([12])\n",
      "tensor([[ 5,  2,  3,  4,  5,  6,  7,  8,  9, 10, 11, 12]])\n"
     ]
    }
   ],
   "source": [
    "## Squeezing Tensors - removes all single dimensions from tensor\n",
    "\n",
    "print(x_reshaped.shape)\n",
    "\n",
    "print(x_reshaped.squeeze())\n",
    "print(x_reshaped.squeeze().shape)\n",
    "\n",
    "\n",
    "## Unsqueezing Tensors - adds a single dimension to a target tensor\n",
    "print(x.unsqueeze(dim = 0))"
   ]
  },
  {
   "cell_type": "code",
   "execution_count": 42,
   "metadata": {},
   "outputs": [
    {
     "name": "stdout",
     "output_type": "stream",
     "text": [
      "tensor([[[0.0452, 0.8059, 0.7000],\n",
      "         [0.8232, 0.3928, 0.4507],\n",
      "         [0.7083, 0.1190, 0.2863],\n",
      "         [0.4116, 0.4829, 0.9086],\n",
      "         [0.1086, 0.7079, 0.7240]],\n",
      "\n",
      "        [[0.2044, 0.5852, 0.5102],\n",
      "         [0.6825, 0.9966, 0.2524],\n",
      "         [0.1767, 0.0143, 0.8074],\n",
      "         [0.0363, 0.6428, 0.3380],\n",
      "         [0.4343, 0.6762, 0.8972]]])\n"
     ]
    }
   ],
   "source": [
    "## permute - rearranges the dimensions accordingly\n",
    "\n",
    "x_new = torch.rand(size = (2,5,3))\n",
    "print(x_new)"
   ]
  },
  {
   "cell_type": "markdown",
   "metadata": {},
   "source": [
    "## Indexing\n",
    "\n",
    "Similar to indexing in NumPy"
   ]
  },
  {
   "cell_type": "code",
   "execution_count": 49,
   "metadata": {},
   "outputs": [
    {
     "data": {
      "text/plain": [
       "(tensor([[[1, 2, 3],\n",
       "          [4, 5, 6],\n",
       "          [7, 8, 9]]]),\n",
       " torch.Size([1, 3, 3]))"
      ]
     },
     "execution_count": 49,
     "metadata": {},
     "output_type": "execute_result"
    }
   ],
   "source": [
    "# Create tensor using arange\n",
    "\n",
    "x = torch.arange(1,10).reshape(1,3,3)\n",
    "x, x.shape"
   ]
  },
  {
   "cell_type": "code",
   "execution_count": 55,
   "metadata": {},
   "outputs": [
    {
     "data": {
      "text/plain": [
       "tensor([[1],\n",
       "        [2],\n",
       "        [3],\n",
       "        [4],\n",
       "        [5],\n",
       "        [6],\n",
       "        [7],\n",
       "        [8],\n",
       "        [9]])"
      ]
     },
     "execution_count": 55,
     "metadata": {},
     "output_type": "execute_result"
    }
   ],
   "source": [
    "x[0].reshape(9,1)"
   ]
  },
  {
   "cell_type": "code",
   "execution_count": null,
   "metadata": {},
   "outputs": [],
   "source": []
  }
 ],
 "metadata": {
  "kernelspec": {
   "display_name": "base",
   "language": "python",
   "name": "python3"
  },
  "language_info": {
   "codemirror_mode": {
    "name": "ipython",
    "version": 3
   },
   "file_extension": ".py",
   "mimetype": "text/x-python",
   "name": "python",
   "nbconvert_exporter": "python",
   "pygments_lexer": "ipython3",
   "version": "3.11.4"
  },
  "orig_nbformat": 4
 },
 "nbformat": 4,
 "nbformat_minor": 2
}
